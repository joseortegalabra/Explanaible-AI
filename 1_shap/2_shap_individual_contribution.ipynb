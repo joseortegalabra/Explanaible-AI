{
 "cells": [
  {
   "cell_type": "markdown",
   "id": "09719c78-72fe-4225-bbde-add89df38d85",
   "metadata": {},
   "source": [
    "# Explanaible AI - Shap - Plot individual contribution of each feature of observation\n",
    "\n",
    "Documentation: \n",
    "- https://shap.readthedocs.io/en/latest/example_notebooks/overviews/An%20introduction%20to%20explainable%20AI%20with%20Shapley%20values.html\n",
    "- This notebook is the continuation since: The additive nature of Shapley values"
   ]
  },
  {
   "cell_type": "code",
   "execution_count": null,
   "id": "e0eecf6b-aca9-457c-a6b0-9fd296e4a766",
   "metadata": {},
   "outputs": [],
   "source": []
  },
  {
   "cell_type": "markdown",
   "id": "2d4363af-0198-4458-8aa7-e55503774216",
   "metadata": {},
   "source": [
    "## RUN"
   ]
  },
  {
   "cell_type": "code",
   "execution_count": 1,
   "id": "7dc67167-5e45-4af0-b038-909f397bcb57",
   "metadata": {},
   "outputs": [],
   "source": [
    "import warnings\n",
    "warnings.filterwarnings('ignore')\n",
    "\n",
    "import pandas as pd\n",
    "import numpy as np\n",
    "import pickle\n",
    "import matplotlib.pyplot as plt\n",
    "import sklearn\n",
    "\n",
    "import plotly.graph_objs as go\n",
    "from plotly.subplots import make_subplots\n",
    "import plotly.express as px\n",
    "\n",
    "# shap\n",
    "import shap\n",
    "\n",
    "# models\n",
    "from sklearn.linear_model import LinearRegression # lr\n",
    "from sklearn.linear_model import Ridge # ridge\n",
    "from sklearn.linear_model import Lasso # lasso\n",
    "from sklearn.tree import DecisionTreeRegressor # tree\n",
    "from sklearn.ensemble import GradientBoostingRegressor #gb\n",
    "from sklearn.ensemble import RandomForestRegressor #rf\n",
    "from xgboost import XGBRegressor # xgb\n",
    "from  sklearn.neural_network import MLPRegressor # mlp"
   ]
  },
  {
   "cell_type": "code",
   "execution_count": null,
   "id": "4f80f0d0-b072-4cd2-962f-7f759e5eb22b",
   "metadata": {},
   "outputs": [],
   "source": []
  },
  {
   "cell_type": "markdown",
   "id": "0d0dc1e9-fc46-4cb7-8c3e-eb456c97b485",
   "metadata": {},
   "source": [
    "### 0. Global params"
   ]
  },
  {
   "cell_type": "code",
   "execution_count": null,
   "id": "1732bdb5-9489-4e23-9db2-138f7831c377",
   "metadata": {},
   "outputs": [],
   "source": []
  },
  {
   "cell_type": "markdown",
   "id": "b1c92a18-a304-49ce-b2e4-99f71c8a59cd",
   "metadata": {},
   "source": [
    "### 1. Load data"
   ]
  },
  {
   "cell_type": "code",
   "execution_count": 2,
   "id": "f968240c-5a4e-4e88-884f-524e0a7c6fb3",
   "metadata": {},
   "outputs": [],
   "source": [
    "# a classic housing price dataset\n",
    "X, y = shap.datasets.california(n_points=1000)"
   ]
  },
  {
   "cell_type": "code",
   "execution_count": 3,
   "id": "1ba0c114-0638-4331-bba8-03edb92ff551",
   "metadata": {},
   "outputs": [
    {
     "data": {
      "text/html": [
       "<div>\n",
       "<style scoped>\n",
       "    .dataframe tbody tr th:only-of-type {\n",
       "        vertical-align: middle;\n",
       "    }\n",
       "\n",
       "    .dataframe tbody tr th {\n",
       "        vertical-align: top;\n",
       "    }\n",
       "\n",
       "    .dataframe thead th {\n",
       "        text-align: right;\n",
       "    }\n",
       "</style>\n",
       "<table border=\"1\" class=\"dataframe\">\n",
       "  <thead>\n",
       "    <tr style=\"text-align: right;\">\n",
       "      <th></th>\n",
       "      <th>MedInc</th>\n",
       "      <th>HouseAge</th>\n",
       "      <th>AveRooms</th>\n",
       "      <th>AveBedrms</th>\n",
       "      <th>Population</th>\n",
       "      <th>AveOccup</th>\n",
       "      <th>Latitude</th>\n",
       "      <th>Longitude</th>\n",
       "    </tr>\n",
       "  </thead>\n",
       "  <tbody>\n",
       "    <tr>\n",
       "      <th>14740</th>\n",
       "      <td>4.1518</td>\n",
       "      <td>22.0</td>\n",
       "      <td>5.663073</td>\n",
       "      <td>1.075472</td>\n",
       "      <td>1551.0</td>\n",
       "      <td>4.180593</td>\n",
       "      <td>32.58</td>\n",
       "      <td>-117.05</td>\n",
       "    </tr>\n",
       "    <tr>\n",
       "      <th>10101</th>\n",
       "      <td>5.7796</td>\n",
       "      <td>32.0</td>\n",
       "      <td>6.107226</td>\n",
       "      <td>0.927739</td>\n",
       "      <td>1296.0</td>\n",
       "      <td>3.020979</td>\n",
       "      <td>33.92</td>\n",
       "      <td>-117.97</td>\n",
       "    </tr>\n",
       "    <tr>\n",
       "      <th>20566</th>\n",
       "      <td>4.3487</td>\n",
       "      <td>29.0</td>\n",
       "      <td>5.930712</td>\n",
       "      <td>1.026217</td>\n",
       "      <td>1554.0</td>\n",
       "      <td>2.910112</td>\n",
       "      <td>38.65</td>\n",
       "      <td>-121.84</td>\n",
       "    </tr>\n",
       "    <tr>\n",
       "      <th>2670</th>\n",
       "      <td>2.4511</td>\n",
       "      <td>37.0</td>\n",
       "      <td>4.992958</td>\n",
       "      <td>1.316901</td>\n",
       "      <td>390.0</td>\n",
       "      <td>2.746479</td>\n",
       "      <td>33.20</td>\n",
       "      <td>-115.60</td>\n",
       "    </tr>\n",
       "    <tr>\n",
       "      <th>15709</th>\n",
       "      <td>5.0049</td>\n",
       "      <td>25.0</td>\n",
       "      <td>4.319261</td>\n",
       "      <td>1.039578</td>\n",
       "      <td>649.0</td>\n",
       "      <td>1.712401</td>\n",
       "      <td>37.79</td>\n",
       "      <td>-122.43</td>\n",
       "    </tr>\n",
       "  </tbody>\n",
       "</table>\n",
       "</div>"
      ],
      "text/plain": [
       "       MedInc  HouseAge  AveRooms  AveBedrms  Population  AveOccup  Latitude  \\\n",
       "14740  4.1518      22.0  5.663073   1.075472      1551.0  4.180593     32.58   \n",
       "10101  5.7796      32.0  6.107226   0.927739      1296.0  3.020979     33.92   \n",
       "20566  4.3487      29.0  5.930712   1.026217      1554.0  2.910112     38.65   \n",
       "2670   2.4511      37.0  4.992958   1.316901       390.0  2.746479     33.20   \n",
       "15709  5.0049      25.0  4.319261   1.039578       649.0  1.712401     37.79   \n",
       "\n",
       "       Longitude  \n",
       "14740    -117.05  \n",
       "10101    -117.97  \n",
       "20566    -121.84  \n",
       "2670     -115.60  \n",
       "15709    -122.43  "
      ]
     },
     "execution_count": 3,
     "metadata": {},
     "output_type": "execute_result"
    }
   ],
   "source": [
    "X.head()"
   ]
  },
  {
   "cell_type": "code",
   "execution_count": 4,
   "id": "23f6da44-aa77-4529-a3e3-4827bc71b6da",
   "metadata": {},
   "outputs": [
    {
     "data": {
      "text/plain": [
       "array([1.369  , 2.413  , 2.007  , 0.725  , 4.6    , 1.2    , 2.47   ,\n",
       "       3.369  , 3.397  , 2.656  , 2.379  , 0.922  , 0.795  , 1.375  ,\n",
       "       2.201  , 2.761  , 3.953  , 3.     , 1.827  , 3.864  , 1.314  ,\n",
       "       0.742  , 2.31   , 3.941  , 1.761  , 1.734  , 2.021  , 1.708  ,\n",
       "       0.926  , 0.57   , 4.657  , 3.726  , 4.     , 1.539  , 1.     ,\n",
       "       1.587  , 1.421  , 1.396  , 3.197  , 1.313  , 1.107  , 0.849  ,\n",
       "       0.704  , 2.76   , 1.58   , 0.542  , 1.232  , 1.162  , 1.592  ,\n",
       "       2.155  , 2.781  , 0.66   , 2.929  , 1.712  , 2.75   , 0.962  ,\n",
       "       5.00001, 1.676  , 1.829  , 2.231  , 1.733  , 1.891  , 1.177  ,\n",
       "       2.468  , 0.618  , 0.934  , 0.557  , 3.905  , 2.03   , 0.889  ,\n",
       "       5.00001, 1.703  , 1.55   , 0.579  , 5.00001, 1.083  , 3.506  ,\n",
       "       2.032  , 2.214  , 1.553  , 2.706  , 2.     , 0.875  , 2.045  ,\n",
       "       1.969  , 1.839  , 0.786  , 1.458  , 0.767  , 0.985  , 2.217  ,\n",
       "       1.713  , 0.618  , 2.747  , 0.75   , 2.042  , 3.75   , 2.408  ,\n",
       "       1.391  , 3.906  , 1.822  , 2.298  , 3.325  , 2.454  , 1.761  ,\n",
       "       2.776  , 1.898  , 0.883  , 0.623  , 3.222  , 2.262  , 0.669  ,\n",
       "       2.226  , 4.613  , 1.702  , 3.255  , 0.983  , 1.531  , 1.653  ,\n",
       "       0.909  , 1.867  , 1.48   , 2.961  , 3.405  , 2.309  , 3.817  ,\n",
       "       0.917  , 3.457  , 3.168  , 2.188  , 0.88   , 1.839  , 1.542  ,\n",
       "       1.944  , 0.67   , 3.25   , 3.426  , 1.424  , 1.107  , 0.647  ,\n",
       "       1.375  , 2.034  , 1.8    , 1.17   , 1.372  , 1.938  , 2.028  ,\n",
       "       5.00001, 0.759  , 1.727  , 5.00001, 4.033  , 0.956  , 0.438  ,\n",
       "       0.738  , 3.024  , 1.635  , 1.212  , 0.616  , 2.345  , 2.707  ,\n",
       "       1.637  , 4.158  , 0.793  , 1.36   , 2.135  , 2.092  , 1.693  ,\n",
       "       1.375  , 1.521  , 1.894  , 1.1    , 4.143  , 1.663  , 1.922  ,\n",
       "       1.987  , 1.375  , 2.38   , 4.439  , 1.92   , 0.883  , 3.522  ,\n",
       "       3.519  , 0.627  , 0.699  , 2.119  , 1.485  , 2.675  , 1.167  ,\n",
       "       0.542  , 2.409  , 1.61   , 2.699  , 1.519  , 1.708  , 1.069  ,\n",
       "       2.318  , 1.724  , 5.00001, 1.464  , 2.879  , 1.692  , 3.353  ,\n",
       "       0.713  , 1.368  , 5.00001, 1.219  , 1.696  , 1.569  , 5.00001,\n",
       "       2.866  , 1.135  , 2.449  , 2.539  , 3.256  , 0.777  , 1.289  ,\n",
       "       0.591  , 2.188  , 1.019  , 1.62   , 2.108  , 2.098  , 1.406  ,\n",
       "       5.00001, 1.6    , 0.952  , 2.262  , 1.83   , 1.114  , 2.083  ,\n",
       "       0.894  , 0.958  , 1.415  , 1.976  , 0.71   , 4.2    , 3.341  ,\n",
       "       2.083  , 1.573  , 1.337  , 1.98   , 2.667  , 0.767  , 4.25   ,\n",
       "       1.804  , 2.638  , 1.     , 1.511  , 1.518  , 3.757  , 1.542  ,\n",
       "       2.104  , 1.594  , 1.418  , 0.907  , 1.709  , 1.704  , 2.793  ,\n",
       "       2.356  , 1.787  , 2.55   , 1.362  , 1.258  , 0.75   , 2.089  ,\n",
       "       4.361  , 0.732  , 4.143  , 2.025  , 2.239  , 2.478  , 0.825  ,\n",
       "       4.09   , 2.132  , 1.5    , 5.00001, 1.037  , 0.875  , 2.089  ,\n",
       "       1.402  , 1.345  , 1.222  , 1.841  , 3.5    , 1.416  , 1.364  ,\n",
       "       5.00001, 3.528  , 3.76   , 2.318  , 2.978  , 3.941  , 3.219  ,\n",
       "       0.875  , 5.00001, 1.423  , 2.778  , 1.865  , 1.133  , 1.108  ,\n",
       "       0.953  , 2.162  , 1.575  , 1.725  , 1.11   , 1.152  , 2.722  ,\n",
       "       5.00001, 0.938  , 1.786  , 1.302  , 2.45   , 4.167  , 0.833  ,\n",
       "       3.159  , 5.00001, 5.00001, 0.961  , 3.499  , 1.298  , 2.486  ,\n",
       "       5.00001, 1.546  , 1.222  , 2.444  , 2.217  , 3.311  , 1.946  ,\n",
       "       3.786  , 3.621  , 1.191  , 1.352  , 1.418  , 0.965  , 2.295  ,\n",
       "       2.667  , 1.625  , 0.7    , 1.596  , 1.514  , 3.921  , 2.333  ,\n",
       "       1.925  , 0.589  , 1.608  , 1.279  , 0.874  , 2.013  , 5.00001,\n",
       "       0.547  , 5.00001, 2.419  , 0.795  , 1.023  , 1.926  , 3.633  ,\n",
       "       1.533  , 2.442  , 1.152  , 1.396  , 0.75   , 1.609  , 2.09   ,\n",
       "       1.053  , 2.208  , 3.579  , 2.562  , 2.48   , 3.114  , 1.463  ,\n",
       "       5.00001, 1.25   , 1.804  , 1.346  , 5.00001, 5.00001, 1.524  ,\n",
       "       3.571  , 2.715  , 1.172  , 2.683  , 1.914  , 0.666  , 1.775  ,\n",
       "       2.658  , 1.149  , 1.528  , 2.062  , 0.987  , 3.461  , 0.44   ,\n",
       "       1.656  , 2.043  , 1.546  , 1.844  , 1.831  , 1.21   , 3.369  ,\n",
       "       0.792  , 0.683  , 1.9    , 3.882  , 3.462  , 2.469  , 0.992  ,\n",
       "       3.328  , 2.207  , 0.65   , 2.335  , 0.719  , 0.614  , 5.00001,\n",
       "       4.462  , 1.839  , 4.75   , 1.577  , 2.013  , 2.289  , 1.468  ,\n",
       "       2.256  , 0.615  , 3.5    , 0.609  , 1.25   , 5.00001, 0.513  ,\n",
       "       2.348  , 4.019  , 0.983  , 1.287  , 2.722  , 3.026  , 1.286  ,\n",
       "       0.483  , 1.625  , 1.75   , 2.583  , 1.621  , 3.72   , 1.411  ,\n",
       "       0.672  , 0.927  , 2.581  , 1.18   , 1.125  , 5.00001, 2.002  ,\n",
       "       1.854  , 1.809  , 2.074  , 5.00001, 1.114  , 0.66   , 2.876  ,\n",
       "       1.216  , 1.541  , 1.846  , 0.844  , 0.723  , 0.714  , 2.2    ,\n",
       "       3.977  , 2.286  , 2.269  , 1.95   , 1.294  , 4.167  , 1.981  ,\n",
       "       3.667  , 3.098  , 0.463  , 2.056  , 0.554  , 0.962  , 0.96   ,\n",
       "       1.856  , 1.956  , 2.4    , 0.769  , 2.589  , 2.361  , 1.327  ,\n",
       "       3.229  , 0.994  , 1.708  , 1.849  , 2.269  , 0.911  , 1.324  ,\n",
       "       3.545  , 2.427  , 0.939  , 3.553  , 1.743  , 1.355  , 1.395  ,\n",
       "       0.632  , 0.897  , 1.063  , 0.961  , 1.44   , 1.625  , 5.00001,\n",
       "       1.687  , 1.019  , 3.971  , 0.705  , 1.299  , 5.00001, 0.539  ,\n",
       "       4.405  , 1.984  , 1.843  , 0.938  , 1.041  , 1.118  , 0.961  ,\n",
       "       0.702  , 0.551  , 1.918  , 3.912  , 1.723  , 2.627  , 3.591  ,\n",
       "       0.633  , 1.542  , 4.338  , 1.765  , 3.66   , 0.992  , 1.059  ,\n",
       "       5.00001, 3.522  , 1.125  , 1.361  , 0.99   , 5.00001, 2.768  ,\n",
       "       2.453  , 1.     , 2.841  , 5.00001, 0.883  , 1.015  , 1.63   ,\n",
       "       0.544  , 1.26   , 2.925  , 1.113  , 2.141  , 1.875  , 3.5    ,\n",
       "       0.697  , 0.325  , 0.834  , 0.731  , 0.858  , 1.153  , 2.15   ,\n",
       "       1.63   , 1.188  , 1.586  , 3.143  , 3.418  , 1.679  , 4.5    ,\n",
       "       3.515  , 0.44   , 0.881  , 1.602  , 2.     , 1.955  , 0.863  ,\n",
       "       2.623  , 1.504  , 1.663  , 0.902  , 1.954  , 3.5    , 1.297  ,\n",
       "       1.625  , 5.00001, 1.083  , 0.713  , 0.485  , 1.924  , 1.125  ,\n",
       "       1.827  , 1.307  , 4.518  , 0.592  , 0.985  , 2.15   , 1.327  ,\n",
       "       1.558  , 1.105  , 5.00001, 1.446  , 3.352  , 1.137  , 5.00001,\n",
       "       1.031  , 4.13   , 2.31   , 1.719  , 1.333  , 3.5    , 1.798  ,\n",
       "       0.685  , 1.255  , 0.938  , 1.434  , 2.519  , 1.25   , 0.52   ,\n",
       "       1.382  , 3.925  , 5.00001, 5.00001, 1.339  , 4.976  , 1.019  ,\n",
       "       1.839  , 2.341  , 2.554  , 2.776  , 2.854  , 1.459  , 5.00001,\n",
       "       1.19   , 0.905  , 0.953  , 3.111  , 1.161  , 1.506  , 1.889  ,\n",
       "       1.292  , 2.547  , 3.228  , 3.231  , 5.00001, 1.187  , 0.55   ,\n",
       "       1.761  , 1.764  , 0.698  , 3.03   , 1.574  , 0.948  , 5.00001,\n",
       "       1.125  , 3.417  , 2.822  , 1.422  , 1.783  , 2.668  , 2.028  ,\n",
       "       1.027  , 1.618  , 1.563  , 2.581  , 1.691  , 1.303  , 1.825  ,\n",
       "       1.414  , 1.319  , 2.516  , 1.651  , 2.118  , 1.026  , 0.528  ,\n",
       "       0.631  , 0.963  , 1.201  , 1.011  , 3.086  , 0.655  , 1.288  ,\n",
       "       2.018  , 0.906  , 5.00001, 0.661  , 1.467  , 2.911  , 1.067  ,\n",
       "       3.143  , 1.813  , 1.505  , 1.75   , 1.444  , 2.033  , 1.336  ,\n",
       "       0.705  , 1.945  , 1.896  , 0.775  , 2.75   , 0.988  , 3.637  ,\n",
       "       0.861  , 2.4    , 1.516  , 1.063  , 1.382  , 2.242  , 1.011  ,\n",
       "       2.139  , 0.582  , 2.023  , 1.477  , 1.11   , 0.761  , 3.4    ,\n",
       "       1.125  , 5.00001, 0.942  , 5.00001, 1.62   , 1.666  , 1.2    ,\n",
       "       1.739  , 1.224  , 2.207  , 1.597  , 5.00001, 1.143  , 3.131  ,\n",
       "       2.293  , 1.063  , 3.806  , 1.714  , 0.923  , 1.554  , 3.25   ,\n",
       "       1.513  , 1.211  , 0.895  , 3.33   , 1.136  , 1.563  , 1.7    ,\n",
       "       4.429  , 2.399  , 3.115  , 1.5    , 1.701  , 0.821  , 0.79   ,\n",
       "       2.429  , 2.301  , 0.67   , 1.904  , 4.566  , 5.00001, 2.621  ,\n",
       "       1.414  , 1.026  , 0.864  , 1.344  , 1.095  , 3.684  , 2.331  ,\n",
       "       0.612  , 1.281  , 1.609  , 1.313  , 1.031  , 1.125  , 1.335  ,\n",
       "       2.228  , 1.638  , 1.192  , 2.188  , 5.00001, 1.844  , 0.975  ,\n",
       "       2.394  , 1.743  , 1.218  , 1.919  , 0.844  , 1.     , 1.821  ,\n",
       "       2.076  , 3.39   , 4.192  , 2.399  , 0.65   , 1.814  , 1.596  ,\n",
       "       1.817  , 0.508  , 2.888  , 2.581  , 2.841  , 1.378  , 2.776  ,\n",
       "       2.25   , 2.833  , 5.00001, 2.167  , 1.337  , 5.00001, 3.268  ,\n",
       "       2.417  , 2.604  , 1.089  , 0.768  , 1.781  , 1.505  , 1.517  ,\n",
       "       2.     , 2.75   , 3.37   , 2.73   , 4.735  , 1.826  , 2.416  ,\n",
       "       0.661  , 1.438  , 4.384  , 0.568  , 0.58   , 3.194  , 0.871  ,\n",
       "       3.354  , 1.083  , 1.188  , 1.873  , 1.281  , 2.686  , 1.217  ,\n",
       "       2.738  , 1.204  , 3.625  , 4.043  , 1.838  , 0.875  , 1.224  ,\n",
       "       0.735  , 0.698  , 0.768  , 1.594  , 1.522  , 0.973  , 1.091  ,\n",
       "       2.821  , 1.583  , 2.098  , 2.133  , 3.243  , 3.298  , 0.55   ,\n",
       "       1.449  , 1.046  , 1.804  , 2.518  , 1.625  , 2.75   , 2.773  ,\n",
       "       2.143  , 1.482  , 3.981  , 1.64   , 1.327  , 1.875  , 2.815  ,\n",
       "       2.672  , 1.109  , 1.219  , 1.049  , 2.041  , 1.065  , 2.485  ,\n",
       "       2.22   , 4.     , 3.608  , 2.179  , 2.033  , 1.375  , 0.668  ,\n",
       "       1.144  , 0.704  , 2.487  , 2.513  , 2.846  , 5.00001, 3.674  ,\n",
       "       5.00001, 0.95   , 1.183  , 2.696  , 3.575  , 2.978  , 0.525  ,\n",
       "       0.792  , 1.672  , 2.389  , 0.974  , 2.324  , 0.656  , 1.295  ,\n",
       "       1.306  , 1.319  , 3.267  , 4.352  , 3.78   , 0.841  , 3.     ,\n",
       "       0.658  , 2.5    , 3.456  , 5.00001, 3.227  , 3.015  , 2.824  ,\n",
       "       1.31   , 3.694  , 2.315  , 1.577  , 1.265  , 2.922  , 1.094  ,\n",
       "       0.98   , 1.688  , 1.779  , 1.729  , 1.446  , 1.869  , 1.507  ,\n",
       "       1.2    , 4.822  , 0.857  , 1.625  , 3.25   , 0.958  , 2.5    ,\n",
       "       1.634  , 1.375  , 1.794  , 0.944  , 2.881  , 1.27   , 0.813  ,\n",
       "       2.879  , 1.805  , 1.435  , 1.408  , 0.621  , 1.013  , 1.785  ,\n",
       "       5.00001, 0.995  , 3.853  , 1.337  , 2.289  , 1.475  , 0.989  ,\n",
       "       4.333  , 2.5    , 1.493  , 1.     , 2.13   , 1.694  , 0.675  ,\n",
       "       0.772  , 0.906  , 0.684  , 3.25   , 1.376  , 5.00001, 2.713  ,\n",
       "       0.6    , 2.012  , 5.00001, 1.938  , 4.555  , 1.145  , 0.886  ,\n",
       "       0.909  , 2.107  , 4.569  , 0.883  , 2.125  , 1.557  , 2.16   ,\n",
       "       1.9    , 2.701  , 1.848  , 1.297  , 0.837  , 1.531  , 1.432  ,\n",
       "       2.579  , 1.855  , 1.058  , 3.435  , 2.259  , 2.683  ])"
      ]
     },
     "execution_count": 4,
     "metadata": {},
     "output_type": "execute_result"
    }
   ],
   "source": [
    "y"
   ]
  },
  {
   "cell_type": "code",
   "execution_count": 5,
   "id": "1024c9d8-7c8b-4eb8-aaee-7e37e3ca7df8",
   "metadata": {},
   "outputs": [
    {
     "data": {
      "text/html": [
       "<div>\n",
       "<style scoped>\n",
       "    .dataframe tbody tr th:only-of-type {\n",
       "        vertical-align: middle;\n",
       "    }\n",
       "\n",
       "    .dataframe tbody tr th {\n",
       "        vertical-align: top;\n",
       "    }\n",
       "\n",
       "    .dataframe thead th {\n",
       "        text-align: right;\n",
       "    }\n",
       "</style>\n",
       "<table border=\"1\" class=\"dataframe\">\n",
       "  <thead>\n",
       "    <tr style=\"text-align: right;\">\n",
       "      <th></th>\n",
       "      <th>MedInc</th>\n",
       "      <th>HouseAge</th>\n",
       "      <th>AveRooms</th>\n",
       "      <th>AveBedrms</th>\n",
       "      <th>Population</th>\n",
       "      <th>AveOccup</th>\n",
       "      <th>Latitude</th>\n",
       "      <th>Longitude</th>\n",
       "    </tr>\n",
       "  </thead>\n",
       "  <tbody>\n",
       "    <tr>\n",
       "      <th>12953</th>\n",
       "      <td>3.7813</td>\n",
       "      <td>15.0</td>\n",
       "      <td>5.620058</td>\n",
       "      <td>1.013500</td>\n",
       "      <td>2868.0</td>\n",
       "      <td>2.765670</td>\n",
       "      <td>38.70</td>\n",
       "      <td>-121.28</td>\n",
       "    </tr>\n",
       "    <tr>\n",
       "      <th>18537</th>\n",
       "      <td>4.3000</td>\n",
       "      <td>20.0</td>\n",
       "      <td>6.270677</td>\n",
       "      <td>1.137845</td>\n",
       "      <td>981.0</td>\n",
       "      <td>2.458647</td>\n",
       "      <td>36.98</td>\n",
       "      <td>-122.00</td>\n",
       "    </tr>\n",
       "    <tr>\n",
       "      <th>13337</th>\n",
       "      <td>3.9107</td>\n",
       "      <td>27.0</td>\n",
       "      <td>5.572816</td>\n",
       "      <td>1.000000</td>\n",
       "      <td>321.0</td>\n",
       "      <td>3.116505</td>\n",
       "      <td>34.04</td>\n",
       "      <td>-117.68</td>\n",
       "    </tr>\n",
       "    <tr>\n",
       "      <th>12651</th>\n",
       "      <td>1.6521</td>\n",
       "      <td>36.0</td>\n",
       "      <td>4.068477</td>\n",
       "      <td>1.121606</td>\n",
       "      <td>2460.0</td>\n",
       "      <td>2.904368</td>\n",
       "      <td>38.52</td>\n",
       "      <td>-121.44</td>\n",
       "    </tr>\n",
       "    <tr>\n",
       "      <th>19986</th>\n",
       "      <td>2.3152</td>\n",
       "      <td>25.0</td>\n",
       "      <td>5.412844</td>\n",
       "      <td>1.055046</td>\n",
       "      <td>1424.0</td>\n",
       "      <td>3.266055</td>\n",
       "      <td>36.21</td>\n",
       "      <td>-119.32</td>\n",
       "    </tr>\n",
       "    <tr>\n",
       "      <th>...</th>\n",
       "      <td>...</td>\n",
       "      <td>...</td>\n",
       "      <td>...</td>\n",
       "      <td>...</td>\n",
       "      <td>...</td>\n",
       "      <td>...</td>\n",
       "      <td>...</td>\n",
       "      <td>...</td>\n",
       "    </tr>\n",
       "    <tr>\n",
       "      <th>6232</th>\n",
       "      <td>3.3523</td>\n",
       "      <td>25.0</td>\n",
       "      <td>4.997245</td>\n",
       "      <td>1.112948</td>\n",
       "      <td>1187.0</td>\n",
       "      <td>3.269972</td>\n",
       "      <td>34.07</td>\n",
       "      <td>-117.94</td>\n",
       "    </tr>\n",
       "    <tr>\n",
       "      <th>2782</th>\n",
       "      <td>1.2049</td>\n",
       "      <td>17.0</td>\n",
       "      <td>4.337500</td>\n",
       "      <td>1.206250</td>\n",
       "      <td>775.0</td>\n",
       "      <td>2.421875</td>\n",
       "      <td>32.74</td>\n",
       "      <td>-114.66</td>\n",
       "    </tr>\n",
       "    <tr>\n",
       "      <th>12601</th>\n",
       "      <td>1.9837</td>\n",
       "      <td>37.0</td>\n",
       "      <td>4.786517</td>\n",
       "      <td>1.014045</td>\n",
       "      <td>902.0</td>\n",
       "      <td>2.533708</td>\n",
       "      <td>38.53</td>\n",
       "      <td>-121.48</td>\n",
       "    </tr>\n",
       "    <tr>\n",
       "      <th>2198</th>\n",
       "      <td>7.5000</td>\n",
       "      <td>8.0</td>\n",
       "      <td>6.564885</td>\n",
       "      <td>0.946565</td>\n",
       "      <td>1111.0</td>\n",
       "      <td>2.826972</td>\n",
       "      <td>36.85</td>\n",
       "      <td>-119.88</td>\n",
       "    </tr>\n",
       "    <tr>\n",
       "      <th>20133</th>\n",
       "      <td>3.2024</td>\n",
       "      <td>30.0</td>\n",
       "      <td>4.882253</td>\n",
       "      <td>1.046075</td>\n",
       "      <td>2065.0</td>\n",
       "      <td>3.523891</td>\n",
       "      <td>34.40</td>\n",
       "      <td>-118.91</td>\n",
       "    </tr>\n",
       "  </tbody>\n",
       "</table>\n",
       "<p>100 rows × 8 columns</p>\n",
       "</div>"
      ],
      "text/plain": [
       "       MedInc  HouseAge  AveRooms  AveBedrms  Population  AveOccup  Latitude  \\\n",
       "12953  3.7813      15.0  5.620058   1.013500      2868.0  2.765670     38.70   \n",
       "18537  4.3000      20.0  6.270677   1.137845       981.0  2.458647     36.98   \n",
       "13337  3.9107      27.0  5.572816   1.000000       321.0  3.116505     34.04   \n",
       "12651  1.6521      36.0  4.068477   1.121606      2460.0  2.904368     38.52   \n",
       "19986  2.3152      25.0  5.412844   1.055046      1424.0  3.266055     36.21   \n",
       "...       ...       ...       ...        ...         ...       ...       ...   \n",
       "6232   3.3523      25.0  4.997245   1.112948      1187.0  3.269972     34.07   \n",
       "2782   1.2049      17.0  4.337500   1.206250       775.0  2.421875     32.74   \n",
       "12601  1.9837      37.0  4.786517   1.014045       902.0  2.533708     38.53   \n",
       "2198   7.5000       8.0  6.564885   0.946565      1111.0  2.826972     36.85   \n",
       "20133  3.2024      30.0  4.882253   1.046075      2065.0  3.523891     34.40   \n",
       "\n",
       "       Longitude  \n",
       "12953    -121.28  \n",
       "18537    -122.00  \n",
       "13337    -117.68  \n",
       "12651    -121.44  \n",
       "19986    -119.32  \n",
       "...          ...  \n",
       "6232     -117.94  \n",
       "2782     -114.66  \n",
       "12601    -121.48  \n",
       "2198     -119.88  \n",
       "20133    -118.91  \n",
       "\n",
       "[100 rows x 8 columns]"
      ]
     },
     "execution_count": 5,
     "metadata": {},
     "output_type": "execute_result"
    }
   ],
   "source": [
    "X100 = shap.utils.sample(X, 100)  # 100 instances for use as the background distribution\n",
    "X100"
   ]
  },
  {
   "cell_type": "code",
   "execution_count": null,
   "id": "cda32d9c-fddd-4bfa-9d3b-89a9cf133fdb",
   "metadata": {},
   "outputs": [],
   "source": []
  },
  {
   "cell_type": "code",
   "execution_count": null,
   "id": "63aa182d-3b29-4a9a-9288-bda4551f899a",
   "metadata": {},
   "outputs": [],
   "source": []
  },
  {
   "cell_type": "markdown",
   "id": "cebe38f2-1cdc-4dfb-99f8-63af4bf77c62",
   "metadata": {},
   "source": [
    "### 2. Train models"
   ]
  },
  {
   "cell_type": "code",
   "execution_count": 6,
   "id": "de66fa80-849b-490e-8383-05314a53bd13",
   "metadata": {},
   "outputs": [
    {
     "data": {
      "text/html": [
       "<style>#sk-container-id-1 {color: black;}#sk-container-id-1 pre{padding: 0;}#sk-container-id-1 div.sk-toggleable {background-color: white;}#sk-container-id-1 label.sk-toggleable__label {cursor: pointer;display: block;width: 100%;margin-bottom: 0;padding: 0.3em;box-sizing: border-box;text-align: center;}#sk-container-id-1 label.sk-toggleable__label-arrow:before {content: \"▸\";float: left;margin-right: 0.25em;color: #696969;}#sk-container-id-1 label.sk-toggleable__label-arrow:hover:before {color: black;}#sk-container-id-1 div.sk-estimator:hover label.sk-toggleable__label-arrow:before {color: black;}#sk-container-id-1 div.sk-toggleable__content {max-height: 0;max-width: 0;overflow: hidden;text-align: left;background-color: #f0f8ff;}#sk-container-id-1 div.sk-toggleable__content pre {margin: 0.2em;color: black;border-radius: 0.25em;background-color: #f0f8ff;}#sk-container-id-1 input.sk-toggleable__control:checked~div.sk-toggleable__content {max-height: 200px;max-width: 100%;overflow: auto;}#sk-container-id-1 input.sk-toggleable__control:checked~label.sk-toggleable__label-arrow:before {content: \"▾\";}#sk-container-id-1 div.sk-estimator input.sk-toggleable__control:checked~label.sk-toggleable__label {background-color: #d4ebff;}#sk-container-id-1 div.sk-label input.sk-toggleable__control:checked~label.sk-toggleable__label {background-color: #d4ebff;}#sk-container-id-1 input.sk-hidden--visually {border: 0;clip: rect(1px 1px 1px 1px);clip: rect(1px, 1px, 1px, 1px);height: 1px;margin: -1px;overflow: hidden;padding: 0;position: absolute;width: 1px;}#sk-container-id-1 div.sk-estimator {font-family: monospace;background-color: #f0f8ff;border: 1px dotted black;border-radius: 0.25em;box-sizing: border-box;margin-bottom: 0.5em;}#sk-container-id-1 div.sk-estimator:hover {background-color: #d4ebff;}#sk-container-id-1 div.sk-parallel-item::after {content: \"\";width: 100%;border-bottom: 1px solid gray;flex-grow: 1;}#sk-container-id-1 div.sk-label:hover label.sk-toggleable__label {background-color: #d4ebff;}#sk-container-id-1 div.sk-serial::before {content: \"\";position: absolute;border-left: 1px solid gray;box-sizing: border-box;top: 0;bottom: 0;left: 50%;z-index: 0;}#sk-container-id-1 div.sk-serial {display: flex;flex-direction: column;align-items: center;background-color: white;padding-right: 0.2em;padding-left: 0.2em;position: relative;}#sk-container-id-1 div.sk-item {position: relative;z-index: 1;}#sk-container-id-1 div.sk-parallel {display: flex;align-items: stretch;justify-content: center;background-color: white;position: relative;}#sk-container-id-1 div.sk-item::before, #sk-container-id-1 div.sk-parallel-item::before {content: \"\";position: absolute;border-left: 1px solid gray;box-sizing: border-box;top: 0;bottom: 0;left: 50%;z-index: -1;}#sk-container-id-1 div.sk-parallel-item {display: flex;flex-direction: column;z-index: 1;position: relative;background-color: white;}#sk-container-id-1 div.sk-parallel-item:first-child::after {align-self: flex-end;width: 50%;}#sk-container-id-1 div.sk-parallel-item:last-child::after {align-self: flex-start;width: 50%;}#sk-container-id-1 div.sk-parallel-item:only-child::after {width: 0;}#sk-container-id-1 div.sk-dashed-wrapped {border: 1px dashed gray;margin: 0 0.4em 0.5em 0.4em;box-sizing: border-box;padding-bottom: 0.4em;background-color: white;}#sk-container-id-1 div.sk-label label {font-family: monospace;font-weight: bold;display: inline-block;line-height: 1.2em;}#sk-container-id-1 div.sk-label-container {text-align: center;}#sk-container-id-1 div.sk-container {/* jupyter's `normalize.less` sets `[hidden] { display: none; }` but bootstrap.min.css set `[hidden] { display: none !important; }` so we also need the `!important` here to be able to override the default hidden behavior on the sphinx rendered scikit-learn.org. See: https://github.com/scikit-learn/scikit-learn/issues/21755 */display: inline-block !important;position: relative;}#sk-container-id-1 div.sk-text-repr-fallback {display: none;}</style><div id=\"sk-container-id-1\" class=\"sk-top-container\"><div class=\"sk-text-repr-fallback\"><pre>LinearRegression()</pre><b>In a Jupyter environment, please rerun this cell to show the HTML representation or trust the notebook. <br />On GitHub, the HTML representation is unable to render, please try loading this page with nbviewer.org.</b></div><div class=\"sk-container\" hidden><div class=\"sk-item\"><div class=\"sk-estimator sk-toggleable\"><input class=\"sk-toggleable__control sk-hidden--visually\" id=\"sk-estimator-id-1\" type=\"checkbox\" checked><label for=\"sk-estimator-id-1\" class=\"sk-toggleable__label sk-toggleable__label-arrow\">LinearRegression</label><div class=\"sk-toggleable__content\"><pre>LinearRegression()</pre></div></div></div></div></div>"
      ],
      "text/plain": [
       "LinearRegression()"
      ]
     },
     "execution_count": 6,
     "metadata": {},
     "output_type": "execute_result"
    }
   ],
   "source": [
    "# train lr\n",
    "lr = LinearRegression()\n",
    "lr.fit(X, y)"
   ]
  },
  {
   "cell_type": "code",
   "execution_count": 7,
   "id": "41c32724-deb3-4581-8fa1-cb85787cae57",
   "metadata": {},
   "outputs": [
    {
     "name": "stdout",
     "output_type": "stream",
     "text": [
      "Model coefficients:\n",
      "\n",
      "MedInc = 0.42563\n",
      "HouseAge = 0.01033\n",
      "AveRooms = -0.1161\n",
      "AveBedrms = 0.66385\n",
      "Population = 3e-05\n",
      "AveOccup = -0.26096\n",
      "Latitude = -0.46734\n",
      "Longitude = -0.46272\n"
     ]
    }
   ],
   "source": [
    "# explore coeficients linear regression\n",
    "print(\"Model coefficients:\\n\")\n",
    "for i in range(X.shape[1]):\n",
    "    print(X.columns[i], \"=\", lr.coef_[i].round(5))"
   ]
  },
  {
   "cell_type": "code",
   "execution_count": 8,
   "id": "55b68f43-d004-4a0a-8e36-c4db7abc4c8f",
   "metadata": {},
   "outputs": [
    {
     "data": {
      "text/html": [
       "<style>#sk-container-id-2 {color: black;}#sk-container-id-2 pre{padding: 0;}#sk-container-id-2 div.sk-toggleable {background-color: white;}#sk-container-id-2 label.sk-toggleable__label {cursor: pointer;display: block;width: 100%;margin-bottom: 0;padding: 0.3em;box-sizing: border-box;text-align: center;}#sk-container-id-2 label.sk-toggleable__label-arrow:before {content: \"▸\";float: left;margin-right: 0.25em;color: #696969;}#sk-container-id-2 label.sk-toggleable__label-arrow:hover:before {color: black;}#sk-container-id-2 div.sk-estimator:hover label.sk-toggleable__label-arrow:before {color: black;}#sk-container-id-2 div.sk-toggleable__content {max-height: 0;max-width: 0;overflow: hidden;text-align: left;background-color: #f0f8ff;}#sk-container-id-2 div.sk-toggleable__content pre {margin: 0.2em;color: black;border-radius: 0.25em;background-color: #f0f8ff;}#sk-container-id-2 input.sk-toggleable__control:checked~div.sk-toggleable__content {max-height: 200px;max-width: 100%;overflow: auto;}#sk-container-id-2 input.sk-toggleable__control:checked~label.sk-toggleable__label-arrow:before {content: \"▾\";}#sk-container-id-2 div.sk-estimator input.sk-toggleable__control:checked~label.sk-toggleable__label {background-color: #d4ebff;}#sk-container-id-2 div.sk-label input.sk-toggleable__control:checked~label.sk-toggleable__label {background-color: #d4ebff;}#sk-container-id-2 input.sk-hidden--visually {border: 0;clip: rect(1px 1px 1px 1px);clip: rect(1px, 1px, 1px, 1px);height: 1px;margin: -1px;overflow: hidden;padding: 0;position: absolute;width: 1px;}#sk-container-id-2 div.sk-estimator {font-family: monospace;background-color: #f0f8ff;border: 1px dotted black;border-radius: 0.25em;box-sizing: border-box;margin-bottom: 0.5em;}#sk-container-id-2 div.sk-estimator:hover {background-color: #d4ebff;}#sk-container-id-2 div.sk-parallel-item::after {content: \"\";width: 100%;border-bottom: 1px solid gray;flex-grow: 1;}#sk-container-id-2 div.sk-label:hover label.sk-toggleable__label {background-color: #d4ebff;}#sk-container-id-2 div.sk-serial::before {content: \"\";position: absolute;border-left: 1px solid gray;box-sizing: border-box;top: 0;bottom: 0;left: 50%;z-index: 0;}#sk-container-id-2 div.sk-serial {display: flex;flex-direction: column;align-items: center;background-color: white;padding-right: 0.2em;padding-left: 0.2em;position: relative;}#sk-container-id-2 div.sk-item {position: relative;z-index: 1;}#sk-container-id-2 div.sk-parallel {display: flex;align-items: stretch;justify-content: center;background-color: white;position: relative;}#sk-container-id-2 div.sk-item::before, #sk-container-id-2 div.sk-parallel-item::before {content: \"\";position: absolute;border-left: 1px solid gray;box-sizing: border-box;top: 0;bottom: 0;left: 50%;z-index: -1;}#sk-container-id-2 div.sk-parallel-item {display: flex;flex-direction: column;z-index: 1;position: relative;background-color: white;}#sk-container-id-2 div.sk-parallel-item:first-child::after {align-self: flex-end;width: 50%;}#sk-container-id-2 div.sk-parallel-item:last-child::after {align-self: flex-start;width: 50%;}#sk-container-id-2 div.sk-parallel-item:only-child::after {width: 0;}#sk-container-id-2 div.sk-dashed-wrapped {border: 1px dashed gray;margin: 0 0.4em 0.5em 0.4em;box-sizing: border-box;padding-bottom: 0.4em;background-color: white;}#sk-container-id-2 div.sk-label label {font-family: monospace;font-weight: bold;display: inline-block;line-height: 1.2em;}#sk-container-id-2 div.sk-label-container {text-align: center;}#sk-container-id-2 div.sk-container {/* jupyter's `normalize.less` sets `[hidden] { display: none; }` but bootstrap.min.css set `[hidden] { display: none !important; }` so we also need the `!important` here to be able to override the default hidden behavior on the sphinx rendered scikit-learn.org. See: https://github.com/scikit-learn/scikit-learn/issues/21755 */display: inline-block !important;position: relative;}#sk-container-id-2 div.sk-text-repr-fallback {display: none;}</style><div id=\"sk-container-id-2\" class=\"sk-top-container\"><div class=\"sk-text-repr-fallback\"><pre>RandomForestRegressor(min_samples_leaf=0.1, min_samples_split=0.2,\n",
       "                      n_estimators=3, random_state=42)</pre><b>In a Jupyter environment, please rerun this cell to show the HTML representation or trust the notebook. <br />On GitHub, the HTML representation is unable to render, please try loading this page with nbviewer.org.</b></div><div class=\"sk-container\" hidden><div class=\"sk-item\"><div class=\"sk-estimator sk-toggleable\"><input class=\"sk-toggleable__control sk-hidden--visually\" id=\"sk-estimator-id-2\" type=\"checkbox\" checked><label for=\"sk-estimator-id-2\" class=\"sk-toggleable__label sk-toggleable__label-arrow\">RandomForestRegressor</label><div class=\"sk-toggleable__content\"><pre>RandomForestRegressor(min_samples_leaf=0.1, min_samples_split=0.2,\n",
       "                      n_estimators=3, random_state=42)</pre></div></div></div></div></div>"
      ],
      "text/plain": [
       "RandomForestRegressor(min_samples_leaf=0.1, min_samples_split=0.2,\n",
       "                      n_estimators=3, random_state=42)"
      ]
     },
     "execution_count": 8,
     "metadata": {},
     "output_type": "execute_result"
    }
   ],
   "source": [
    "# train rf simple\n",
    "param_n_trees = 3\n",
    "rf_simple = RandomForestRegressor(n_estimators = param_n_trees,\n",
    "                                  random_state = 42,\n",
    "                                 min_samples_split = 0.2,\n",
    "                                    min_samples_leaf = 0.1)\n",
    "                                   #max_depth = 2)\n",
    "rf_simple.fit(X, y)"
   ]
  },
  {
   "cell_type": "code",
   "execution_count": null,
   "id": "6400f7a2-9335-42f3-8f93-0c5767f0434b",
   "metadata": {},
   "outputs": [],
   "source": []
  },
  {
   "cell_type": "markdown",
   "id": "38ba2088-c694-4d27-87db-191cf72565a6",
   "metadata": {},
   "source": [
    "### 3. Understanding \"base value\" in shapley values\n",
    "- **They (SHAP values) explain how to get from the base value E[f(z)]  that would be predicted if we did not know any features to the current output f(x**)\n",
    "- Expect value for the prediction of the target across al the training dataset.\n",
    "- The base value should be the \"mean of the predictions\" in the training dataset"
   ]
  },
  {
   "cell_type": "markdown",
   "id": "069c4e5c-546b-42e8-9d21-4cb45e36cd71",
   "metadata": {},
   "source": [
    "#### 3.1 train a model to predict the target without any feature\n",
    "The mean prediction should be the base_value calcuated by shap"
   ]
  },
  {
   "cell_type": "code",
   "execution_count": 9,
   "id": "51540f9b-c63c-4702-a55c-79f9f13e3216",
   "metadata": {},
   "outputs": [
    {
     "data": {
      "text/plain": [
       "2.0448235200000004"
      ]
     },
     "execution_count": 9,
     "metadata": {},
     "output_type": "execute_result"
    }
   ],
   "source": [
    "# dataframe X no features\n",
    "X_no_features = pd.DataFrame(np.ones((X.shape[0], 1)))\n",
    "\n",
    "# train\n",
    "lr_no_features = LinearRegression()\n",
    "lr_no_features.fit(X_no_features, y)\n",
    "\n",
    "# prediction and mean\n",
    "y_pred_no_features = lr_no_features.predict(X_no_features)\n",
    "y_pred_no_features.mean()"
   ]
  },
  {
   "cell_type": "markdown",
   "id": "20584839-7afe-442d-92e9-89028ae51b9e",
   "metadata": {},
   "source": [
    "#### 3.1 base value shap"
   ]
  },
  {
   "cell_type": "code",
   "execution_count": 10,
   "id": "590d7b8a-73c1-4187-bf0a-f3f53d92f096",
   "metadata": {},
   "outputs": [
    {
     "name": "stdout",
     "output_type": "stream",
     "text": [
      "CPU times: total: 8.78 s\n",
      "Wall time: 8.9 s\n"
     ]
    },
    {
     "data": {
      "text/plain": [
       "1.9035338119654202"
      ]
     },
     "execution_count": 10,
     "metadata": {},
     "output_type": "execute_result"
    }
   ],
   "source": [
    "%%time\n",
    "# compute the SHAP values for the linear model\n",
    "explainer = shap.Explainer(lr.predict, X) # explainer with full dataset insead of small sample\n",
    "shap_values = explainer(X) # shap values with full dataset\n",
    "\n",
    "# expect value get from shapley values - all the observations has the same base_value\n",
    "shap_values.base_values[0]"
   ]
  },
  {
   "cell_type": "code",
   "execution_count": null,
   "id": "ac162e6e-deff-4341-9080-d173a9f198a0",
   "metadata": {},
   "outputs": [],
   "source": []
  },
  {
   "cell_type": "markdown",
   "id": "c2bf28dd-efda-45bd-8db3-857007ad391a",
   "metadata": {},
   "source": [
    "#### TODO: review, the base_value is not the same. HOW I GET THE 1.9....."
   ]
  },
  {
   "cell_type": "code",
   "execution_count": 68,
   "id": "9dfb00a3-b05b-4397-8905-37a882761158",
   "metadata": {},
   "outputs": [
    {
     "data": {
      "text/plain": [
       "array([-37.92011062])"
      ]
     },
     "execution_count": 68,
     "metadata": {},
     "output_type": "execute_result"
    }
   ],
   "source": [
    "# instance all zeros\n",
    "instance_all_zeros = X.iloc[[0], :]\n",
    "instance_all_zeros.iloc[:, :] = 0\n",
    "lr.predict(instance_all_zeros)\n",
    "### worse. this is not the intercept"
   ]
  },
  {
   "cell_type": "code",
   "execution_count": null,
   "id": "c0e39a16-c0f2-4bad-a2cb-f9322bc31f8b",
   "metadata": {},
   "outputs": [],
   "source": []
  },
  {
   "cell_type": "code",
   "execution_count": null,
   "id": "3cdedb76-6e94-45c4-bea9-ff9a8f26d81a",
   "metadata": {},
   "outputs": [],
   "source": []
  },
  {
   "cell_type": "code",
   "execution_count": null,
   "id": "c149649d-7979-4f64-b3be-f3ca8221605c",
   "metadata": {},
   "outputs": [],
   "source": []
  },
  {
   "cell_type": "markdown",
   "id": "1cb29a7a-1da5-4ab1-8c40-1e03ce796b74",
   "metadata": {},
   "source": [
    "### 4. The additive nature of shapley values\n",
    "- One of the fundamental properties of Shapley values is that they always sum up to the difference between the game outcome when all players are present and the game outcome when no players are present\n",
    "\n",
    "- For machine learning models this means that SHAP values of all the input features will always sum up to the difference between baseline (expected) model output and the current model output for the prediction being explained\n",
    "\n",
    "- The easiest way to see this is through a waterfall plot that starts at our background prior expectation for a home price, and then adds features one at a time until we reach the current model output\n",
    "\n",
    "- **Also, a waterfall plot show of the differents features impact in the value of the prediction**"
   ]
  },
  {
   "cell_type": "code",
   "execution_count": 12,
   "id": "4743fa79-319f-4d1b-a9a2-f7e93a06e33e",
   "metadata": {},
   "outputs": [],
   "source": [
    "# shap_values"
   ]
  },
  {
   "cell_type": "code",
   "execution_count": 13,
   "id": "c8aad51d-7033-4a29-bb50-c7c3006bc94f",
   "metadata": {},
   "outputs": [],
   "source": [
    "# sample of one obsevation\n",
    "sample_ind = 20"
   ]
  },
  {
   "cell_type": "code",
   "execution_count": 14,
   "id": "5001e58c-10e1-44de-b935-071ee18c95fc",
   "metadata": {},
   "outputs": [
    {
     "data": {
      "image/png": "[encoded data removed]",
      "text/plain": [
       "<Figure size 800x550 with 3 Axes>"
      ]
     },
     "metadata": {},
     "output_type": "display_data"
    }
   ],
   "source": [
    "# the waterfall_plot shows how we get from shap_values.base_values to model.predict(X)[sample_ind]\n",
    "shap.plots.waterfall(shap_values[sample_ind], max_display=14)"
   ]
  },
  {
   "cell_type": "markdown",
   "id": "53d1dc9e-1041-4282-bc3b-f8be538d7aff",
   "metadata": {},
   "source": [
    "#### 4.1 show info\n",
    "- **Shapley values**: in the waterfall_plot, the shapley values are showed in the barplot. Positive shapley values are plot in red bar and negative shap values are ploted in blue\n",
    "  \n",
    "- **Data**: in the waterfall_plot, the data, the value of each feature are showed in the left size"
   ]
  },
  {
   "cell_type": "code",
   "execution_count": 21,
   "id": "6541eba9-c1d8-4b4b-ae44-2ae9bfe2b9d7",
   "metadata": {},
   "outputs": [
    {
     "data": {
      "text/plain": [
       "array([-0.48900816, -0.10840999,  0.08734303, -0.06647713,  0.01402258,\n",
       "       -0.04536997,  1.47024547, -1.08511549])"
      ]
     },
     "execution_count": 21,
     "metadata": {},
     "output_type": "execute_result"
    }
   ],
   "source": [
    "# show shap values\n",
    "shap_values[sample_ind].values"
   ]
  },
  {
   "cell_type": "code",
   "execution_count": 23,
   "id": "b0fd59f6-4215-4b44-b170-1b7d36b70e10",
   "metadata": {},
   "outputs": [
    {
     "data": {
      "text/plain": [
       "array([ 2.58590000e+00,  1.70000000e+01,  4.81463415e+00,  1.03089431e+00,\n",
       "        1.91100000e+03,  3.10731707e+00,  3.25700000e+01, -1.17070000e+02])"
      ]
     },
     "execution_count": 23,
     "metadata": {},
     "output_type": "execute_result"
    }
   ],
   "source": [
    "# show the data\n",
    "shap_values[sample_ind].data"
   ]
  },
  {
   "cell_type": "code",
   "execution_count": null,
   "id": "ad1e64a2-ff6a-4048-977e-3ea72dc78dae",
   "metadata": {},
   "outputs": [],
   "source": []
  },
  {
   "cell_type": "markdown",
   "id": "ba165e0d-d907-4782-9c18-474d79f4e179",
   "metadata": {},
   "source": [
    "#### 4.2 Calculate the prediction since base_value + shapley values \n",
    "The prediction of the model is the sum the shapley values of all features plus the base value\n",
    "\n",
    "y_pred = base_value(shapley_value) + sum(shapley values)\n",
    "\n",
    "\n",
    "- **base_value**: it is showed in the waterfall plot as the expected value **E(F(x))**\n",
    "\n",
    "- **prediction**: the prediction of the model is showed inh the waterfall plot as **F(x)**"
   ]
  },
  {
   "cell_type": "code",
   "execution_count": 26,
   "id": "ecd4386a-d1a2-4623-bb95-53f6a0887913",
   "metadata": {},
   "outputs": [
    {
     "data": {
      "text/plain": [
       "-0.2227696588157933"
      ]
     },
     "execution_count": 26,
     "metadata": {},
     "output_type": "execute_result"
    }
   ],
   "source": [
    "# the sum of shapley values\n",
    "shapley_values_instance_sum = shap_values[sample_ind].values.sum()\n",
    "shapley_values_instance_sum"
   ]
  },
  {
   "cell_type": "code",
   "execution_count": 27,
   "id": "68a19022-3fa2-4c73-aa75-07f707be9d52",
   "metadata": {},
   "outputs": [
    {
     "data": {
      "text/plain": [
       "1.9035338119654202"
      ]
     },
     "execution_count": 27,
     "metadata": {},
     "output_type": "execute_result"
    }
   ],
   "source": [
    "# the base value\n",
    "shapley_values_instance_base_value = shap_values[sample_ind].base_values\n",
    "shapley_values_instance_base_value"
   ]
  },
  {
   "cell_type": "code",
   "execution_count": 30,
   "id": "5f5d019f-8e26-4293-a44d-a4c6a92ff715",
   "metadata": {},
   "outputs": [
    {
     "data": {
      "text/plain": [
       "1.680764153149627"
      ]
     },
     "execution_count": 30,
     "metadata": {},
     "output_type": "execute_result"
    }
   ],
   "source": [
    "# calculate prediction from shapley values\n",
    "shapley_values_prediction = shapley_values_instance_base_value + shapley_values_instance_sum\n",
    "shapley_values_prediction"
   ]
  },
  {
   "cell_type": "code",
   "execution_count": 44,
   "id": "06a574d3-a353-4a8f-8cf1-8f91a48808b2",
   "metadata": {},
   "outputs": [
    {
     "data": {
      "text/plain": [
       "array([1.68076415])"
      ]
     },
     "execution_count": 44,
     "metadata": {},
     "output_type": "execute_result"
    }
   ],
   "source": [
    "# calculate prediction from model.predict()\n",
    "instance = X.iloc[[sample_ind], :]\n",
    "lr.predict(instance)"
   ]
  },
  {
   "cell_type": "code",
   "execution_count": null,
   "id": "683999e8-69ab-47e8-88e2-1b1f69748eeb",
   "metadata": {},
   "outputs": [],
   "source": []
  },
  {
   "cell_type": "markdown",
   "id": "c91ea5f6-2890-4ced-a4d1-ff63de7b1b35",
   "metadata": {},
   "source": [
    "### 4. Waterfall plot (individual explanation)\n",
    "- Plots an explanation of a single prediction as a waterfall plot.\n",
    "\n",
    "- The SHAP value of a feature represents the impact of the evidence provided by that feature on the model’s output. The waterfall plot is designed to visually display how the SHAP values (evidence) of each feature move the model output from our prior expectation under the background data distribution, to the final model prediction given the evidence of all the features.\n",
    "\n",
    "- https://shap.readthedocs.io/en/latest/generated/shap.plots.waterfall.html"
   ]
  },
  {
   "cell_type": "code",
   "execution_count": 70,
   "id": "3e9eeef9-9e0c-4c9b-999a-adfcde931db1",
   "metadata": {},
   "outputs": [
    {
     "data": {
      "image/png": "[encoded data removed]",
      "text/plain": [
       "<Figure size 800x550 with 3 Axes>"
      ]
     },
     "metadata": {},
     "output_type": "display_data"
    }
   ],
   "source": [
    "# the waterfall_plot shows how we get from shap_values.base_values to model.predict(X)[sample_ind]\n",
    "shap.plots.waterfall(shap_values[sample_ind], max_display=14)"
   ]
  },
  {
   "cell_type": "markdown",
   "id": "dc8ec352-f6f1-4a80-9a2e-f8d1cb959b87",
   "metadata": {},
   "source": [
    "Spanish - explication 2\n",
    "\n",
    "- Utiliza para visualizar la contribución de cada característica a la diferencia entre el valor esperado del modelo y el valor de predicción para una instancia de datos específica.\n",
    "\n",
    " - En un gráfico de cascada de SHAP, **cada barra representa la contribución de una característica específica al cambio en la predicción del modelo en comparación con la predicción promedio del modelo.** Las barras se suman para obtener la predicción final del modelo para esa instancia de datos en particular.\n",
    "\n",
    "- Esto puede ser útil para comprender cómo cada característica influye en las predicciones del modelo para casos individuales, lo que puede ayudar a interpretar y explicar las predicciones del modelo de manera más detallada."
   ]
  },
  {
   "cell_type": "code",
   "execution_count": null,
   "id": "67feb618-b16b-4cd5-ac22-1279b0d34b47",
   "metadata": {},
   "outputs": [],
   "source": []
  },
  {
   "cell_type": "code",
   "execution_count": null,
   "id": "a945ac0a-ed11-47fb-ac47-cf04c2588407",
   "metadata": {},
   "outputs": [],
   "source": []
  },
  {
   "cell_type": "markdown",
   "id": "38eb1049-7a5b-476a-8229-0810b2146301",
   "metadata": {},
   "source": [
    "### 5. beeswarm plot (all observation explanation)\n",
    "- \r\n",
    "En el contexto de SHAP (SHapley Additive exPlanations), un gráfico de enjambre de abejas puede utilizarse para visualizar la distribución de los valores de una característica específica en el conjunto de datos, con colores que indican la contribución de esa característica a la predicción del modelo para cada punto de dato\n",
    "\n",
    "- Esto proporciona una forma intuitiva de entender cómo una característica específica afecta las predicciones del modelo en diferentes puntos del espacio de características, lo que puede ser útil para identificar patrones y relaciones en los datos.o."
   ]
  },
  {
   "cell_type": "markdown",
   "id": "c190ce1e-aac3-4155-a4c0-4823ba2c2449",
   "metadata": {},
   "source": [
    "**Entendimiento gráfico**\n",
    "- Las feautures están ordenandas del que más impacta al que menos impacta de forma global\n",
    "- Cada punto representa una observación\n",
    "- El color del punto representa el valor de la observación, un color rojo representa un valor alto, mientras que un color azul representa un valor más bajo\n",
    "- Si está a la izquierda tiene un shap value negativo (tiene una contribución negativa en la predicción del modelo en comparación con la predicción promedio del modelo)"
   ]
  },
  {
   "cell_type": "code",
   "execution_count": 71,
   "id": "d985ed90-1d61-4faa-9c2c-93627ee4766a",
   "metadata": {},
   "outputs": [
    {
     "data": {
      "image/png": "[encoded data removed]",
      "text/plain": [
       "<Figure size 800x470 with 2 Axes>"
      ]
     },
     "metadata": {},
     "output_type": "display_data"
    }
   ],
   "source": [
    "# beeswarm\n",
    "shap.plots.beeswarm(shap_values)"
   ]
  },
  {
   "cell_type": "code",
   "execution_count": null,
   "id": "96411429-6564-48d6-9aea-c22d17a34d1e",
   "metadata": {},
   "outputs": [],
   "source": []
  },
  {
   "cell_type": "code",
   "execution_count": null,
   "id": "2dbc00d9-6ee5-491c-900d-27fb2ac4510b",
   "metadata": {},
   "outputs": [],
   "source": []
  },
  {
   "cell_type": "code",
   "execution_count": null,
   "id": "4547f005-f779-49ce-8889-8c0d7c7f28b7",
   "metadata": {},
   "outputs": [],
   "source": []
  },
  {
   "cell_type": "code",
   "execution_count": null,
   "id": "d4b4e0fb-8c36-471a-b108-eb34dae5cf98",
   "metadata": {},
   "outputs": [],
   "source": []
  },
  {
   "cell_type": "code",
   "execution_count": null,
   "id": "68162988-277b-4c95-92d1-b6ec579589b4",
   "metadata": {},
   "outputs": [],
   "source": []
  },
  {
   "cell_type": "code",
   "execution_count": null,
   "id": "d57cdf57-977c-4567-b749-81d2e8d31095",
   "metadata": {},
   "outputs": [],
   "source": []
  }
 ],
 "metadata": {
  "kernelspec": {
   "display_name": "Python 3 (ipykernel)",
   "language": "python",
   "name": "python3"
  },
  "language_info": {
   "codemirror_mode": {
    "name": "ipython",
    "version": 3
   },
   "file_extension": ".py",
   "mimetype": "text/x-python",
   "name": "python",
   "nbconvert_exporter": "python",
   "pygments_lexer": "ipython3",
   "version": "3.10.12"
  }
 },
 "nbformat": 4,
 "nbformat_minor": 5
}
